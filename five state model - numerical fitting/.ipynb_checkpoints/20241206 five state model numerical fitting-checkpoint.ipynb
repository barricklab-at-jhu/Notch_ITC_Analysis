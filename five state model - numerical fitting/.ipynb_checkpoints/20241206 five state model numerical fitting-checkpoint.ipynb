{
 "cells": [
  {
   "cell_type": "markdown",
   "id": "54581fcc",
   "metadata": {},
   "source": [
    "<div class=\"alert alert-block alert-info\">\n",
    "\n",
    "# Notebook to fit ITC equations using a five state binding model (for CSL, RAMNK, and MAML)  <br>\n",
    "\n",
    "### The scheme allows for two partly ligated forms (RAM-CSL) and (ANK-MAML-CSL), one bivalent heterotrimer (CSL-RAMANK-MAML), and one tetramer (RAMANK-CSL-RAMANK-MAML).  Fitted by Newton-Raphson.\n",
    "\n",
    "Concentrations of CSL are $[P_0]=2 \\times 10^{-6} M$, MAML in the syringe is $[x_0]=20 \\times 10^{-6} M$, and RAMANK in the cell varies but e.g. is at $[y_0]=8 \\times 10^{-6} M$.\n",
    "\n",
    "A coupling factor $\\Delta G_{\\phi}$ is used to model the energetics of bivalency, and its enthalpy by the term $\\Delta H_c$.\n",
    "\n",
    "The binding polynomial is the following: \n",
    "    \n",
    "1 + $\\beta _{R}\\times[R] + \\beta_{M,A} \\times [M] \\times [R] + \\beta_{R} \\times \\beta_{M,A} \\times \\phi \\times [R] \\times [M] + \\beta_{R} \\times \\beta_{M,A} \\times [R]^{2} \\times [M]$\n",
    "\n",
    "[M] = MAML <br>\n",
    "[R] = RAMANK <br>"
   ]
  },
  {
   "cell_type": "code",
   "execution_count": 1,
   "id": "ccacd821",
   "metadata": {},
   "outputs": [],
   "source": [
    "import numpy as np \n",
    "import matplotlib as mpl \n",
    "import matplotlib.pyplot as plt \n",
    "import pandas as pd \n",
    "import sympy as sym\n",
    "from lmfit import Parameters, minimize, report_fit"
   ]
  },
  {
   "cell_type": "markdown",
   "id": "e85f5271",
   "metadata": {},
   "source": [
    "<div class=\"alert alert-block alert-info\">\n",
    "\n",
    "## Read in the data.\n",
    "(injection number in column A, heat of injection in calories in column B)"
   ]
  },
  {
   "cell_type": "code",
   "execution_count": 2,
   "id": "9103aa6f",
   "metadata": {},
   "outputs": [],
   "source": [
    "Vinj = 8 # Microliters, needs to be converted for scaling\n",
    "scale_factor_20 = 10**-3/(2*10**-5*Vinj*10**-6) # 10^-3 to get from cal to kcal\n",
    "\n",
    "inj_dict = {}\n",
    "Q_dict = {}\n",
    "\n",
    "data_list = ['a']\n",
    "\n",
    "#read in RAMANK + CSL + MAML data\n",
    "inj_Qa_df = pd.read_csv(\"20231031exp1M1WintoCSLandRAMANKas20into2and6at200mMNaClat25C - corr.csv\", delimiter=',')\n",
    "inj_dict[f'inj_a'] = inj_Qa_df['Injection']\n",
    "Q_dict[f'Q_a'] = scale_factor_20 * inj_Qa_df['Q']"
   ]
  },
  {
   "cell_type": "markdown",
   "id": "d6d45629",
   "metadata": {},
   "source": [
    "<div class=\"alert alert-block alert-info\">\n",
    "\n",
    "### Define binding polynomial, deriv, x polynomial (as a function of $[P]_0$, $[x]_0$, $\\beta_{xy}$),  f-vector, Jacobian and its inverse, and then lambdify the functions for use in main."
   ]
  },
  {
   "cell_type": "code",
   "execution_count": 3,
   "id": "fd63e8a3",
   "metadata": {},
   "outputs": [],
   "source": [
    "# P0 and y0 are the stock concentrations of proteins in the cell.  \n",
    "# x0 is the titrant concentration in the syringe.\n",
    "# P is CSL, y is MAML, x is RAMANK\n",
    "# Vi and Vc are volumes of injection and cell.\n",
    "# i is the injection number\n",
    "\n",
    "P, x, y, beta_MA, beta_R, phi, P0, x0, y0, inj, Vinj, Vcell, cf, DG_MA, DG_R, DG_phi \\\n",
    "                = sym.symbols('P x y beta_MA beta_R phi P0 x0 y0 inj Vinj Vcell cf DG_MA DG_R DG_phi')\n",
    "\n",
    "Pt_sym = P0 * (1 - Vinj/Vcell)**inj\n",
    "yt_sym = y0 * (1 - Vinj/Vcell)**inj\n",
    "xt_sym = x0 * cf * (1 - (1 - Vinj/Vcell)**inj )\n",
    "\n",
    "#binding polynomial\n",
    "bp_sym = 1 + beta_MA*x*y + beta_R*y + beta_MA*beta_R*phi*x*y + beta_MA*beta_R*y*y*x\n",
    "\n",
    "#fit for ΔG, not beta\n",
    "bp_sym_subs = bp_sym.subs([(beta_MA, sym.exp(DG_MA/(.001987*298.15))),\n",
    "                           (beta_R, sym.exp(DG_R/(.001987*298.15))),\n",
    "                           (phi, sym.exp(DG_phi/(.001987*298.15)))])\n",
    "dbp_dx_sym = sym.diff(bp_sym_subs, x)\n",
    "dbp_dy_sym = sym.diff(bp_sym_subs, y)\n",
    "\n",
    "fP_sym = P*bp_sym_subs - Pt_sym\n",
    "fx_sym = x + P*x*dbp_dx_sym - xt_sym\n",
    "fy_sym = y + P*y*dbp_dy_sym - yt_sym\n",
    "\n",
    "f_vec_sym = sym.Matrix([fP_sym, fx_sym, fy_sym])\n",
    "var_vector_sym = sym.Matrix([P, x, y])\n",
    "\n",
    "J = f_vec_sym.jacobian(var_vector_sym)\n",
    "J_inv = J.inv()\n",
    "\n",
    "J_inf_f_vec_sym = J_inv*f_vec_sym\n",
    "\n",
    "bp = sym.lambdify([x, y, DG_MA, DG_R, DG_phi], bp_sym_subs, 'numpy')\n",
    "dbp_dx = sym.lambdify([x, y, DG_MA, DG_R, DG_phi], dbp_dx_sym, 'numpy')\n",
    "dbp_dy = sym.lambdify([x, y, DG_MA, DG_R, DG_phi], dbp_dx_sym, 'numpy')\n",
    "Pt = sym.lambdify([P0, Vinj, Vcell, inj], Pt_sym, 'numpy')\n",
    "xt = sym.lambdify([x0, Vinj, Vcell, inj, cf], xt_sym, 'numpy')\n",
    "yt = sym.lambdify([y0, Vinj, Vcell, inj], yt_sym, 'numpy')\n",
    "fP = sym.lambdify([P, x, y, DG_MA, DG_R, DG_phi, P0, x0, y0, inj, Vinj, Vcell], fP_sym, 'numpy')\n",
    "fx = sym.lambdify([P, x, y, DG_MA, DG_R, DG_phi, P0, x0, y0, inj, Vinj, Vcell, cf], fx_sym, 'numpy')\n",
    "fy = sym.lambdify([P, x, y, DG_MA, DG_R, DG_phi, P0, x0, y0, inj, Vinj, Vcell], fy_sym, 'numpy')\n",
    "J_inv_f_vec = sym.lambdify([P, x, y, DG_MA, DG_R, DG_phi, P0, x0, y0, inj, Vinj, Vcell, cf], \n",
    "                           J_inf_f_vec_sym, 'numpy')"
   ]
  },
  {
   "cell_type": "markdown",
   "id": "6d2734b9",
   "metadata": {},
   "source": [
    "<div class=\"alert alert-block alert-info\">\n",
    "\n",
    "### Function to run a single Newton-Raphson calculation\n",
    "Returns the optimized values, here a column vector with optimized Pk, xk, and yk (that is, $[P]_{free}$, $[x]_{free}$, and $[y]_{free}$).\n",
    "\n",
    "Note, here we are defining initial roots inside the function as the starting concentrations P0, x0, y0."
   ]
  },
  {
   "cell_type": "code",
   "execution_count": 4,
   "id": "b94ee952",
   "metadata": {},
   "outputs": [],
   "source": [
    "def newtonraphson(DG_MA, DG_R, DG_phi, P0, x0, y0, inj, Vinj, Vcell, cf, threshold=0.000001, max_iterations=1000):\n",
    "    init_roots = np.array([[P0], [x0], [y0]])\n",
    "    Pxyk_array = init_roots\n",
    "    \n",
    "    for iter in range(max_iterations):\n",
    "        Pk = Pxyk_array[0,0]\n",
    "        xk = Pxyk_array[1,0]\n",
    "        yk = Pxyk_array[2,0]\n",
    "        updated_root = Pxyk_array - J_inv_f_vec(Pk, xk, yk, DG_MA, DG_R, DG_phi, P0, x0, y0, inj, Vinj, Vcell, cf)\n",
    " \n",
    "        if abs(updated_root[0,0] - Pk)/abs(Pk) < threshold\\\n",
    "            and abs(updated_root[1,0] - xk)/abs(xk) < threshold\\\n",
    "            and abs(updated_root[2,0] - yk)/abs(yk) < threshold:\n",
    "            return Pxyk_array\n",
    "        \n",
    "        else:\n",
    "            Pxyk_array = updated_root\n",
    "            \n",
    "    return Pxyk_array"
   ]
  },
  {
   "cell_type": "markdown",
   "id": "1683394d",
   "metadata": {},
   "source": [
    "<div class=\"alert alert-block alert-info\">\n",
    "\n",
    "### Need to calculate how much CSL is bound to RAMANK in the calorimeter cell at the start of the experiment"
   ]
  },
  {
   "cell_type": "code",
   "execution_count": 5,
   "id": "f4d56518",
   "metadata": {},
   "outputs": [],
   "source": [
    "P_bound, P0, y0, K = sym.symbols(\"P_bound P0 y0 K\")\n",
    "# Coefficients of the quadratic equation in P_bound\n",
    "a = 1\n",
    "b = -y0 -P0 - 1/K\n",
    "c = P0*y0\n",
    "# Find the roots of the quadratic.\n",
    "roots = sym.solve(P_bound**2 + b*P_bound + c, P_bound)\n",
    "# The first root is the desired root. \n",
    "want = roots[0]\n",
    "binding_eqn = sym.lambdify([P0, y0, K], want, \"numpy\")"
   ]
  },
  {
   "cell_type": "markdown",
   "id": "a74af2b3-307c-42c9-8cdf-3be27a5988a5",
   "metadata": {},
   "source": [
    "<div class=\"alert alert-block alert-info\">\n",
    "\n",
    "### Runs newtonraphson function on the array of injection numbers and returns xfree at each injection."
   ]
  },
  {
   "cell_type": "code",
   "execution_count": 6,
   "id": "a13deeee",
   "metadata": {},
   "outputs": [],
   "source": [
    "def Pfxfyf_array_maker(DG_MA, DG_R, DG_phi, P0, x0, y0, inj_array, Vinj, Vcell, cf):\n",
    "\n",
    "    Pf_array = np.zeros(len(inj_array) + 1)\n",
    "    P_bound = binding_eqn(P0, y0, 1/.00000002) # the Kd of CSL-RAMANK at 25C is 20 nM\n",
    "    Pf_array[0] = P0 - P_bound\n",
    "    xf_array = np.zeros(len(inj_array) + 1)\n",
    "    yf_array = np.zeros(len(inj_array) + 1)\n",
    "    yf_array[0] = y0 - P_bound\n",
    "\n",
    "\n",
    "    i = 1\n",
    "    for inj_num in inj_array: \n",
    "        Pxyk_array = newtonraphson(DG_MA, DG_R, DG_phi, P0, x0, y0, inj_num, Vinj, Vcell, cf,\n",
    "                                                 threshold=0.000001)\n",
    "        Pf_array[i] = Pxyk_array[0]\n",
    "        xf_array[i] = Pxyk_array[1]\n",
    "        yf_array[i] = Pxyk_array[2]\n",
    "        i += 1\n",
    "    \n",
    "    return Pf_array, xf_array, yf_array"
   ]
  },
  {
   "cell_type": "markdown",
   "id": "15753f11",
   "metadata": {},
   "source": [
    "<div class=\"alert alert-block alert-info\">\n",
    "\n",
    "### Function to calculate populations of different ligated states.\n",
    "Here [P] is unbound CSL, the heterotrimer CSL-ANK-MAML is [PMA], CSL-RAMANK is [PR], the bivalent heterotrimer is [PRMA], and the heterotetramer with two RAMANK molecules is [PRRMA]"
   ]
  },
  {
   "cell_type": "code",
   "execution_count": 7,
   "id": "2f431949",
   "metadata": {},
   "outputs": [],
   "source": [
    "def p_P(xf, yf, DG_MA, DG_R, DG_phi):\n",
    "    p_P = 1/bp(xf, yf, DG_MA, DG_R, DG_phi)\n",
    "    return p_P\n",
    "\n",
    "def p_PMA(xf, yf, DG_MA, DG_R, DG_phi):\n",
    "    p_PMA = (np.exp(DG_MA/(.001987*298.15)))*xf*yf/bp(xf, yf, DG_MA, DG_R, DG_phi)\n",
    "    return p_PMA\n",
    "\n",
    "def p_PR(xf, yf, DG_MA, DG_R, DG_phi):\n",
    "    p_PR = (np.exp(DG_R/(.001987*298.15)))*yf/bp(xf, yf, DG_MA, DG_R, DG_phi)\n",
    "    return p_PR\n",
    "\n",
    "def p_PRMA(xf, yf, DG_MA, DG_R, DG_phi):\n",
    "    p_PRMA = (np.exp(DG_MA/(.001987*298.15)))*(np.exp(DG_R/(.001987*298.15)))*(np.exp(DG_phi/(.001987*298.15)))*xf*yf/bp(xf, yf, DG_MA, DG_R, DG_phi)\n",
    "    return p_PRMA\n",
    "\n",
    "def p_PRRMA(xf, yf, DG_MA, DG_R, DG_phi):\n",
    "    p_PRRMA = (np.exp(DG_MA/(.001987*298.15)))*(np.exp(DG_R/(.001987*298.15)))*yf*xf*yf/bp(xf, yf, DG_MA, DG_R, DG_phi)\n",
    "    return p_PRRMA"
   ]
  },
  {
   "cell_type": "markdown",
   "id": "2eb54c17",
   "metadata": {},
   "source": [
    "<div class=\"alert alert-block alert-info\">\n",
    "\n",
    "### Function to calculate heats of injection"
   ]
  },
  {
   "cell_type": "code",
   "execution_count": 8,
   "id": "4d3d7e1b",
   "metadata": {},
   "outputs": [],
   "source": [
    "\n",
    "def Q(inj_array, p_PMA_array, p_PR_array, p_PRMA_array, p_PRRMA_array, DHMA, DHR, DHc, P0, x0, y0, \n",
    "       Vinj, Vcell, cf=1.000, Qdil=0):\n",
    "    Q = np.zeros(len(inj_array) + 1)\n",
    "    \n",
    "    i = 1\n",
    "    for inj in inj_array:\n",
    "        Pt = P0 * (1 - Vinj/Vcell)**inj\n",
    "        Q[i] = Vcell*Pt/(Vinj*x0*cf)*(DHMA*(p_PMA_array[inj] - p_PMA_array[inj - 1])\n",
    "                                     +(DHR*(p_PR_array[inj] - p_PR_array[inj - 1]))\n",
    "                                     +((DHMA + DHR + DHc)*(p_PRMA_array[inj] - p_PRMA_array[inj - 1])) \n",
    "                                     +((DHMA + DHR)*(p_PRRMA_array[inj] - p_PRRMA_array[inj - 1]))) + Qdil\n",
    "        i += 1\n",
    "    return Q[1:]"
   ]
  },
  {
   "cell_type": "markdown",
   "id": "b4fd1687",
   "metadata": {},
   "source": [
    "<div class=\"alert alert-block alert-info\">\n",
    "    \n",
    "### Define and constrain fitting parameters\n"
   ]
  },
  {
   "cell_type": "code",
   "execution_count": 9,
   "id": "ae10f0a4",
   "metadata": {},
   "outputs": [],
   "source": [
    "fit_params = Parameters()\n",
    "for exp in data_list:\n",
    "    fit_params.add(f'DG_MA_{exp}', value=18.0, vary=False)\n",
    "    fit_params.add(f'DHMA_{exp}', value=-31.3, vary=False)\n",
    "\n",
    "    fit_params.add(f'DG_R_{exp}', value=10.5, vary=False)\n",
    "    fit_params.add(f'DHR_{exp}', value=-19.0, vary=False)\n",
    "\n",
    "    fit_params.add(f'DG_phi_{exp}', value=-8.2, vary=True)\n",
    "    fit_params.add(f'DHc_{exp}', value=11.0, vary=True, min=-100, max=100)\n",
    "\n",
    "    fit_params.add(f'cf_{exp}', value=1,min=0.65,max=1.2)\n",
    "    fit_params.add(f'Qdil_{exp}', value=0)\n",
    "    \n",
    "    fit_params.add(f'x0_{exp}', value =2*10**-5, vary=False)\n",
    "    fit_params.add(f'y0_{exp}', value =6*10**-6, vary=False) # concentration of RAMANK in the cell"
   ]
  },
  {
   "cell_type": "code",
   "execution_count": 10,
   "id": "af8887ac",
   "metadata": {},
   "outputs": [],
   "source": [
    "# enter concentrations of titrant for each experiment\n",
    "fit_params['x0_a'].value=20*10**-6\n",
    "\n",
    "fit_params['x0_a'].vary=False"
   ]
  },
  {
   "cell_type": "code",
   "execution_count": 11,
   "id": "5e708b3f",
   "metadata": {},
   "outputs": [],
   "source": [
    "# enter concentrations of MAML in the cell for each experiment\n",
    "fit_params['y0_a'].value=6*10**-6\n",
    "\n",
    "fit_params['y0_a'].vary=False"
   ]
  },
  {
   "cell_type": "markdown",
   "id": "9ef71c32-024d-493c-af70-d1d2f440b420",
   "metadata": {},
   "source": [
    "<div class=\"alert alert-block alert-info\">\n",
    "\n",
    "### Check fitting parameters"
   ]
  },
  {
   "cell_type": "code",
   "execution_count": 12,
   "id": "413368f2",
   "metadata": {},
   "outputs": [
    {
     "data": {
      "text/html": [
       "<table class=\"jp-toc-ignore\"><caption>Parameters</caption><tr><th style='text-align:left'>name</th><th style='text-align:left'>value</th><th style='text-align:left'>initial value</th><th style='text-align:left'>min</th><th style='text-align:left'>max</th><th style='text-align:right'>vary</th></tr><tr><td style='text-align:left'>DG_MA_a</td><td style='text-align:left'> 18.0000000</td><td style='text-align:left'>18.0</td><td style='text-align:left'>       -inf</td><td style='text-align:left'>        inf</td><td style='text-align:right'>False</td></tr><tr><td style='text-align:left'>DHMA_a</td><td style='text-align:left'>-31.3000000</td><td style='text-align:left'>-31.3</td><td style='text-align:left'>       -inf</td><td style='text-align:left'>        inf</td><td style='text-align:right'>False</td></tr><tr><td style='text-align:left'>DG_R_a</td><td style='text-align:left'> 10.5000000</td><td style='text-align:left'>10.5</td><td style='text-align:left'>       -inf</td><td style='text-align:left'>        inf</td><td style='text-align:right'>False</td></tr><tr><td style='text-align:left'>DHR_a</td><td style='text-align:left'>-19.0000000</td><td style='text-align:left'>-19.0</td><td style='text-align:left'>       -inf</td><td style='text-align:left'>        inf</td><td style='text-align:right'>False</td></tr><tr><td style='text-align:left'>DG_phi_a</td><td style='text-align:left'>-8.20000000</td><td style='text-align:left'>-8.2</td><td style='text-align:left'>       -inf</td><td style='text-align:left'>        inf</td><td style='text-align:right'>True</td></tr><tr><td style='text-align:left'>DHc_a</td><td style='text-align:left'> 11.0000000</td><td style='text-align:left'>11.0</td><td style='text-align:left'>-100.000000</td><td style='text-align:left'> 100.000000</td><td style='text-align:right'>True</td></tr><tr><td style='text-align:left'>cf_a</td><td style='text-align:left'> 1.00000000</td><td style='text-align:left'>1</td><td style='text-align:left'> 0.65000000</td><td style='text-align:left'> 1.20000000</td><td style='text-align:right'>True</td></tr><tr><td style='text-align:left'>Qdil_a</td><td style='text-align:left'> 0.00000000</td><td style='text-align:left'>0</td><td style='text-align:left'>       -inf</td><td style='text-align:left'>        inf</td><td style='text-align:right'>True</td></tr><tr><td style='text-align:left'>x0_a</td><td style='text-align:left'> 2.0000e-05</td><td style='text-align:left'>2e-05</td><td style='text-align:left'>       -inf</td><td style='text-align:left'>        inf</td><td style='text-align:right'>False</td></tr><tr><td style='text-align:left'>y0_a</td><td style='text-align:left'> 6.0000e-06</td><td style='text-align:left'>6e-06</td><td style='text-align:left'>       -inf</td><td style='text-align:left'>        inf</td><td style='text-align:right'>False</td></tr></table>"
      ],
      "text/plain": [
       "Parameters([('DG_MA_a', <Parameter 'DG_MA_a', value=18.0 (fixed), bounds=[-inf:inf]>), ('DHMA_a', <Parameter 'DHMA_a', value=-31.3 (fixed), bounds=[-inf:inf]>), ('DG_R_a', <Parameter 'DG_R_a', value=10.5 (fixed), bounds=[-inf:inf]>), ('DHR_a', <Parameter 'DHR_a', value=-19.0 (fixed), bounds=[-inf:inf]>), ('DG_phi_a', <Parameter 'DG_phi_a', value=-8.2, bounds=[-inf:inf]>), ('DHc_a', <Parameter 'DHc_a', value=11.0, bounds=[-100:100]>), ('cf_a', <Parameter 'cf_a', value=1, bounds=[0.65:1.2]>), ('Qdil_a', <Parameter 'Qdil_a', value=0, bounds=[-inf:inf]>), ('x0_a', <Parameter 'x0_a', value=1.9999999999999998e-05 (fixed), bounds=[-inf:inf]>), ('y0_a', <Parameter 'y0_a', value=6e-06 (fixed), bounds=[-inf:inf]>)])"
      ]
     },
     "execution_count": 12,
     "metadata": {},
     "output_type": "execute_result"
    }
   ],
   "source": [
    "fit_params"
   ]
  },
  {
   "cell_type": "markdown",
   "id": "e62f43f3",
   "metadata": {},
   "source": [
    "<div class=\"alert alert-block alert-info\">\n",
    "\n",
    "### Use functions above to calculate residual--the objective function of the lmfit minimize command.\n",
    "Define constants like x0, P0 inside the function rather than passing in."
   ]
  },
  {
   "cell_type": "code",
   "execution_count": 13,
   "id": "51e20ced",
   "metadata": {},
   "outputs": [],
   "source": [
    "def residual(fit_params, inj_dict, Q_dict, data_list):\n",
    "    residual_array = np.array([])\n",
    "    \n",
    "    for exp in data_list:    \n",
    "        DG_MA = fit_params[f'DG_MA_{exp}']\n",
    "        DHMA = fit_params[f'DHMA_{exp}']\n",
    "        DG_R = fit_params[f'DG_R_{exp}']\n",
    "        DHR = fit_params[f'DHR_{exp}']\n",
    "        DG_phi = fit_params[f'DG_phi_{exp}']\n",
    "        DHc = fit_params[f'DHc_{exp}']\n",
    "        \n",
    "        x0 = fit_params[f'x0_{exp}']\n",
    "        y0 = fit_params[f'y0_{exp}']\n",
    "        cf = fit_params[f'cf_{exp}']\n",
    "        Qdil = fit_params[f'Qdil_{exp}']\n",
    "        \n",
    "        P0 = 2*10**-6\n",
    "        Vinj = 8\n",
    "        Vcell = 1400\n",
    "        \n",
    "\n",
    "        Pf_array, xf_array, yf_array = Pfxfyf_array_maker(DG_MA, DG_R, DG_phi, P0, x0, y0, inj_dict[f'inj_{exp}'], Vinj, Vcell, cf)\n",
    "        p_PMA_array = p_PMA(xf_array, yf_array, DG_MA, DG_R, DG_phi)\n",
    "        p_PR_array = p_PR(xf_array, yf_array, DG_MA, DG_R, DG_phi)\n",
    "        p_PRMA_array = p_PRMA(xf_array, yf_array, DG_MA, DG_R, DG_phi)\n",
    "        p_PRRMA_array = p_PRRMA(xf_array, yf_array, DG_MA, DG_R, DG_phi)\n",
    "\n",
    "        Q_calc_array = Q(inj_dict[f'inj_{exp}'], p_PMA_array, p_PR_array, p_PRMA_array, p_PRRMA_array,\n",
    "                         DHMA, DHR, DHc, P0, x0, y0, Vinj, Vcell, cf, Qdil) \n",
    "        resids = Q_dict[f'Q_{exp}'] - Q_calc_array\n",
    "        residual_array = np.append(residual_array, resids)\n",
    "    \n",
    "    if skip_inj_1:\n",
    "        return residual_array[1:]\n",
    "    else:\n",
    "        return residual_array\n"
   ]
  },
  {
   "cell_type": "code",
   "execution_count": 14,
   "id": "c2e0c147",
   "metadata": {
    "scrolled": true
   },
   "outputs": [
    {
     "name": "stdout",
     "output_type": "stream",
     "text": [
      "Time taken to run the function:  63.78352999687195 seconds\n"
     ]
    }
   ],
   "source": [
    "import time\n",
    "skip_inj_1 = 1\n",
    "start_time = time.time()\n",
    "out = minimize(residual, fit_params, args=(inj_dict, Q_dict, data_list))\n",
    "end_time = time.time()\n",
    "time_taken = end_time - start_time\n",
    "print(\"Time taken to run the function: \", time_taken, \"seconds\")"
   ]
  },
  {
   "cell_type": "code",
   "execution_count": 15,
   "id": "f200f150",
   "metadata": {},
   "outputs": [
    {
     "name": "stdout",
     "output_type": "stream",
     "text": [
      "[[Fit Statistics]]\n",
      "    # fitting method   = leastsq\n",
      "    # function evals   = 36\n",
      "    # data points      = 29\n",
      "    # variables        = 4\n",
      "    chi-square         = 2.80380802\n",
      "    reduced chi-square = 0.11215232\n",
      "    Akaike info crit   = -59.7532025\n",
      "    Bayesian info crit = -54.2840192\n",
      "[[Variables]]\n",
      "    DG_MA_a:   18 (fixed)\n",
      "    DHMA_a:   -31.3 (fixed)\n",
      "    DG_R_a:    10.5 (fixed)\n",
      "    DHR_a:    -19 (fixed)\n",
      "    DG_phi_a: -6.55927028 +/- 0.05585745 (0.85%) (init = -8.2)\n",
      "    DHc_a:     6.09904832 +/- 0.16979463 (2.78%) (init = 11)\n",
      "    cf_a:      0.93352365 +/- 0.00178598 (0.19%) (init = 1)\n",
      "    Qdil_a:   -2.07283595 +/- 0.11741221 (5.66%) (init = 0)\n",
      "    x0_a:      2e-05 (fixed)\n",
      "    y0_a:      6e-06 (fixed)\n",
      "[[Correlations]] (unreported correlations are < 0.100)\n",
      "    C(DHc_a, Qdil_a)    = -0.7320\n",
      "    C(DG_phi_a, Qdil_a) = -0.3840\n",
      "    C(cf_a, Qdil_a)     = -0.3573\n",
      "    C(DG_phi_a, cf_a)   = +0.1384\n"
     ]
    }
   ],
   "source": [
    "report_fit(out)"
   ]
  },
  {
   "cell_type": "markdown",
   "id": "6b5a04c2",
   "metadata": {},
   "source": [
    "<div class=\"alert alert-block alert-info\">\n",
    "\n",
    "## Generate plots of fits along with the data."
   ]
  },
  {
   "cell_type": "code",
   "execution_count": 25,
   "id": "f226d452",
   "metadata": {},
   "outputs": [
    {
     "data": {
      "image/png": "[encoded data removed]",
      "text/plain": [
       "<Figure size 640x480 with 1 Axes>"
      ]
     },
     "metadata": {},
     "output_type": "display_data"
    }
   ],
   "source": [
    "font = {'family' : 'Arial',\n",
    "        'weight' : 'normal',\n",
    "        'size'   : 14}\n",
    "mpl.rc('font', **font)\n",
    "\n",
    "colors = [(1,0,0),(0,1,0),(0,0,1),(1,0,0),(0,1,0),(0,0,1)]\n",
    "labels = ['20 μM MAML + 2 μM CSL + 2 μM RAMANK','20uM RAMANK, 8uM MAML1','20uM RAMANK, 12uM MAML1',\n",
    "         '20uM ANK, 8uM MAML1','20uM ANK, 12uM MAML1','20uM ANK, 35uM MAML1']\n",
    "\n",
    "P0 = 2*10**-6\n",
    "Vinj = 8\n",
    "Vcell = 1400\n",
    "\n",
    "import itertools\n",
    "\n",
    "i = 0\n",
    "for exp in itertools.islice(data_list,0,6):\n",
    "    colors = [(0,0,0),(1,0,0),(0,0,1),(0.5,0.5,0),(0,1,0),(0.5,0,1)]\n",
    "    labels = ['syringe: 20 μM MAML, cell: 2 μM CSL + 6 μM RAMANK']\n",
    "\n",
    "    DG_MA_best = out.params['DG_MA_a'].value\n",
    "    DG_R_best = out.params['DG_R_a'].value\n",
    "    DG_phi_best = out.params['DG_phi_a'].value\n",
    "\n",
    "    DHMA_best = out.params['DHMA_a'].value\n",
    "    DHR_best = out.params['DHR_a'].value\n",
    "    DHc_best = out.params['DHc_a'].value\n",
    "\n",
    "    x0 = out.params[f'x0_{exp}'].value\n",
    "    y0 = out.params[f'y0_{exp}'].value\n",
    "\n",
    "    cf_best = out.params[f'cf_{exp}'].value\n",
    "    Qdil_best = out.params[f'Qdil_{exp}'].value\n",
    "    c = colors[i]\n",
    "    l = labels[i]\n",
    "    Pf_best, xf_best, yf_best =Pfxfyf_array_maker(DG_MA_best, DG_R_best, DG_phi_best, P0, x0, y0, \n",
    "                                                   inj_dict[f'inj_{exp}'], Vinj, Vcell, cf_best)\n",
    "    p_PMA_best = p_PMA(xf_best, yf_best, DG_MA_best, DG_R_best, DG_phi_best)\n",
    "    p_PR_best = p_PR(xf_best, yf_best, DG_MA_best, DG_R_best, DG_phi_best)\n",
    "    p_PRMA_best = p_PRMA(xf_best, yf_best, DG_MA_best, DG_R_best, DG_phi_best)\n",
    "    p_PRRMA_best = p_PRRMA(xf_best, yf_best, DG_MA_best, DG_R_best, DG_phi_best)\n",
    "    Q_best = Q(inj_dict[f'inj_{exp}'], p_PMA_best, p_PR_best, p_PRMA_best, p_PRRMA_best, DHMA_best, DHR_best, DHc_best, P0, x0, y0, Vinj, Vcell, cf_best, Qdil_best)\n",
    "\n",
    "    plt.plot(inj_dict[f'inj_{exp}'], Q_dict[f'Q_{exp}'], 'o', color = c,label = l)\n",
    "    plt.plot(inj_dict[f'inj_{exp}'], Q_best, '-', color = c)\n",
    "    i += 1\n",
    "\n",
    "plt.xlabel('Injection')\n",
    "plt.ylabel('Heat (kcal/mol injectant)')\n",
    "plt.legend(bbox_to_anchor=(.5,1.1),loc='upper center', borderaxespad=0)\n",
    "plt.savefig('plot_of_fit.png', bbox_inches='tight',dpi=400)"
   ]
  },
  {
   "cell_type": "markdown",
   "id": "ce06c7ac",
   "metadata": {},
   "source": [
    "<div class=\"alert alert-block alert-info\">\n",
    "\n",
    "## plot data with only molar ratio on x-axis"
   ]
  },
  {
   "cell_type": "code",
   "execution_count": 22,
   "id": "5e7763f0",
   "metadata": {},
   "outputs": [
    {
     "data": {
      "image/png": "[encoded data removed]",
      "text/plain": [
       "<Figure size 640x480 with 1 Axes>"
      ]
     },
     "metadata": {},
     "output_type": "display_data"
    }
   ],
   "source": [
    "import itertools\n",
    "import matplotlib.pyplot as plt\n",
    "import numpy as np\n",
    "\n",
    "font = {'family' : 'Arial',\n",
    "        'weight' : 'normal',\n",
    "        'size'   : 14}\n",
    "mpl.rc('font', **font)\n",
    "\n",
    "f, ax = plt.subplots()\n",
    "\n",
    "P0 = 2*10**-6\n",
    "Vinj = 8\n",
    "Vcell = 1400\n",
    "\n",
    "base_colors = [(0,0,0),(1,0,0),(0,0,1),(0.5,0.5,0),(0,1,0),(0.5,0,1)]\n",
    "\n",
    "label_list = ['syringe: 20 μM MAML, cell: 2 μM CSL + 6 μM RAMANK']\n",
    "\n",
    "all_colors = []\n",
    "\n",
    "for exp, base_color, labeling in itertools.islice(zip(data_list, base_colors, label_list), 0, 6):\n",
    "\n",
    "    DG_MA_best = out.params['DG_MA_a'].value\n",
    "    DG_R_best = out.params['DG_R_a'].value\n",
    "    DG_phi_best = out.params['DG_phi_a'].value\n",
    "\n",
    "    DHMA_best = out.params['DHMA_a'].value\n",
    "    DHR_best = out.params['DHR_a'].value\n",
    "    DHc_best = out.params['DHc_a'].value\n",
    " \n",
    "    x0 = out.params[f'x0_{exp}'].value\n",
    "    y0 = out.params[f'y0_{exp}'].value\n",
    "\n",
    "    cf_best = out.params[f'cf_{exp}'].value\n",
    "    Qdil_best = out.params[f'Qdil_{exp}'].value\n",
    "    \n",
    "    Pf_best, xf_best, yf_best =Pfxfyf_array_maker(DG_MA_best, DG_R_best, DG_phi_best, P0, x0, y0, \n",
    "                                                   inj_dict[f'inj_{exp}'], Vinj, Vcell, cf_best,)\n",
    "    p_PMA_best = p_PMA(xf_best, yf_best, DG_MA_best, DG_R_best, DG_phi_best)\n",
    "    p_PR_best = p_PR(xf_best, yf_best, DG_MA_best, DG_R_best, DG_phi_best)\n",
    "    p_PRMA_best = p_PRMA(xf_best, yf_best, DG_MA_best, DG_R_best, DG_phi_best)\n",
    "    p_PRRMA_best = p_PRRMA(xf_best, yf_best, DG_MA_best, DG_R_best, DG_phi_best)\n",
    "\n",
    "    Q_best = Q(inj_dict[f'inj_{exp}'], p_PMA_best, p_PR_best, p_PRMA_best, p_PRRMA_best, DHMA_best, DHR_best, DHc_best, \n",
    "               P0, x0, y0, Vinj, Vcell, cf_best, Qdil_best)\n",
    "\n",
    "    plt.scatter(inj_dict[f'inj_{exp}'][1:], Q_dict[f'Q_{exp}'][1:], c=np.array([base_color]), marker='^', label = labeling)\n",
    "    plt.plot(inj_dict[f'inj_{exp}'], Q_best, '-', color = base_color) \n",
    "    \n",
    "\n",
    "ax.legend()\n",
    "ax.set_ylabel('Q (kcal/mol injectant)')\n",
    "\n",
    "# change x-axis from injection # to molar ratio of MAML and CSL given titration of 20 μM into 2 μM\n",
    "def inj2ratio(x):\n",
    "    y = 0.00018019*x**2 + 0.05581621*x + 0.00084155\n",
    "    return y\n",
    "\n",
    "def yday2date(x):\n",
    "    y = x\n",
    "    return y\n",
    "\n",
    "ax.tick_params(axis='x', which='both', bottom=False, labelbottom=False)\n",
    "\n",
    "secaxx = ax.secondary_xaxis('bottom', functions=(inj2ratio, yday2date))\n",
    "secaxx.set_xlabel('molar ratio (MAML to CSL)')\n",
    "\n",
    "plt.legend(bbox_to_anchor=(-0.1,1.1),loc='upper left', borderaxespad=0)\n",
    "plt.savefig('plot_of_fit_skip1stdatapoint.png', bbox_inches='tight',dpi=400)"
   ]
  },
  {
   "cell_type": "code",
   "execution_count": null,
   "id": "16422c55",
   "metadata": {},
   "outputs": [],
   "source": []
  }
 ],
 "metadata": {
  "kernelspec": {
   "display_name": "Python 3 (ipykernel)",
   "language": "python",
   "name": "python3"
  },
  "language_info": {
   "codemirror_mode": {
    "name": "ipython",
    "version": 3
   },
   "file_extension": ".py",
   "mimetype": "text/x-python",
   "name": "python",
   "nbconvert_exporter": "python",
   "pygments_lexer": "ipython3",
   "version": "3.7.1"
  }
 },
 "nbformat": 4,
 "nbformat_minor": 5
}
